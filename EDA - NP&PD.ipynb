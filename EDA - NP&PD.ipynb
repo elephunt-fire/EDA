{
 "cells": [
  {
   "cell_type": "code",
   "execution_count": 1,
   "id": "9036d886",
   "metadata": {},
   "outputs": [],
   "source": [
    "# Importing all the necessary Libararies"
   ]
  },
  {
   "cell_type": "code",
   "execution_count": 2,
   "id": "16ab392b",
   "metadata": {},
   "outputs": [],
   "source": [
    "import numpy as np"
   ]
  },
  {
   "cell_type": "code",
   "execution_count": 3,
   "id": "72130377",
   "metadata": {
    "scrolled": true
   },
   "outputs": [],
   "source": [
    "import pandas as pd "
   ]
  },
  {
   "cell_type": "code",
   "execution_count": 4,
   "id": "b40ae5f3",
   "metadata": {},
   "outputs": [
    {
     "data": {
      "text/plain": [
       "0    1.0\n",
       "1    3.0\n",
       "2    5.0\n",
       "3    NaN\n",
       "4    6.0\n",
       "5    8.0\n",
       "dtype: float64"
      ]
     },
     "execution_count": 4,
     "metadata": {},
     "output_type": "execute_result"
    }
   ],
   "source": [
    "s = pd.Series([1, 3, 5, np.nan, 6, 8])\n",
    "s"
   ]
  },
  {
   "cell_type": "markdown",
   "id": "b97c9cb0",
   "metadata": {},
   "source": [
    "## Creating a datas variable consisting of various dates. \n",
    "### Using data_range() function to form a list of 6 such dates."
   ]
  },
  {
   "cell_type": "code",
   "execution_count": 5,
   "id": "96aed2c5",
   "metadata": {},
   "outputs": [
    {
     "data": {
      "text/plain": [
       "DatetimeIndex(['2013-01-01', '2013-01-02', '2013-01-03', '2013-01-04',\n",
       "               '2013-01-05', '2013-01-06'],\n",
       "              dtype='datetime64[ns]', freq='D')"
      ]
     },
     "execution_count": 5,
     "metadata": {},
     "output_type": "execute_result"
    }
   ],
   "source": [
    "dates = pd.date_range(\"20130101\", periods=6)\n",
    "dates"
   ]
  },
  {
   "cell_type": "markdown",
   "id": "3762f710",
   "metadata": {},
   "source": [
    "## Converting the dates variable into a DataFrame."
   ]
  },
  {
   "cell_type": "code",
   "execution_count": 6,
   "id": "5b5065cd",
   "metadata": {},
   "outputs": [
    {
     "data": {
      "text/html": [
       "<div>\n",
       "<style scoped>\n",
       "    .dataframe tbody tr th:only-of-type {\n",
       "        vertical-align: middle;\n",
       "    }\n",
       "\n",
       "    .dataframe tbody tr th {\n",
       "        vertical-align: top;\n",
       "    }\n",
       "\n",
       "    .dataframe thead th {\n",
       "        text-align: right;\n",
       "    }\n",
       "</style>\n",
       "<table border=\"1\" class=\"dataframe\">\n",
       "  <thead>\n",
       "    <tr style=\"text-align: right;\">\n",
       "      <th></th>\n",
       "      <th>A</th>\n",
       "      <th>B</th>\n",
       "      <th>C</th>\n",
       "      <th>D</th>\n",
       "    </tr>\n",
       "  </thead>\n",
       "  <tbody>\n",
       "    <tr>\n",
       "      <th>2013-01-01</th>\n",
       "      <td>-0.157724</td>\n",
       "      <td>-0.566110</td>\n",
       "      <td>-0.676295</td>\n",
       "      <td>-1.600854</td>\n",
       "    </tr>\n",
       "    <tr>\n",
       "      <th>2013-01-02</th>\n",
       "      <td>1.662195</td>\n",
       "      <td>0.248636</td>\n",
       "      <td>0.468401</td>\n",
       "      <td>0.644562</td>\n",
       "    </tr>\n",
       "    <tr>\n",
       "      <th>2013-01-03</th>\n",
       "      <td>1.183423</td>\n",
       "      <td>-0.284943</td>\n",
       "      <td>-0.779633</td>\n",
       "      <td>-0.445591</td>\n",
       "    </tr>\n",
       "    <tr>\n",
       "      <th>2013-01-04</th>\n",
       "      <td>1.348688</td>\n",
       "      <td>0.923650</td>\n",
       "      <td>0.463249</td>\n",
       "      <td>-0.687336</td>\n",
       "    </tr>\n",
       "    <tr>\n",
       "      <th>2013-01-05</th>\n",
       "      <td>-0.733194</td>\n",
       "      <td>-0.227056</td>\n",
       "      <td>-0.316576</td>\n",
       "      <td>-1.463865</td>\n",
       "    </tr>\n",
       "    <tr>\n",
       "      <th>2013-01-06</th>\n",
       "      <td>0.820362</td>\n",
       "      <td>-0.956857</td>\n",
       "      <td>0.021371</td>\n",
       "      <td>1.114991</td>\n",
       "    </tr>\n",
       "  </tbody>\n",
       "</table>\n",
       "</div>"
      ],
      "text/plain": [
       "                   A         B         C         D\n",
       "2013-01-01 -0.157724 -0.566110 -0.676295 -1.600854\n",
       "2013-01-02  1.662195  0.248636  0.468401  0.644562\n",
       "2013-01-03  1.183423 -0.284943 -0.779633 -0.445591\n",
       "2013-01-04  1.348688  0.923650  0.463249 -0.687336\n",
       "2013-01-05 -0.733194 -0.227056 -0.316576 -1.463865\n",
       "2013-01-06  0.820362 -0.956857  0.021371  1.114991"
      ]
     },
     "execution_count": 6,
     "metadata": {},
     "output_type": "execute_result"
    }
   ],
   "source": [
    "df=pd.DataFrame(np.random.randn(6,4),index = dates,columns=('A','B','C','D') )\n",
    "df"
   ]
  },
  {
   "cell_type": "markdown",
   "id": "82a7e890",
   "metadata": {},
   "source": [
    "## Converting a 2D Matrix into a DataFrame"
   ]
  },
  {
   "cell_type": "code",
   "execution_count": 7,
   "id": "1e6943fb",
   "metadata": {
    "scrolled": true
   },
   "outputs": [
    {
     "data": {
      "text/html": [
       "<div>\n",
       "<style scoped>\n",
       "    .dataframe tbody tr th:only-of-type {\n",
       "        vertical-align: middle;\n",
       "    }\n",
       "\n",
       "    .dataframe tbody tr th {\n",
       "        vertical-align: top;\n",
       "    }\n",
       "\n",
       "    .dataframe thead th {\n",
       "        text-align: right;\n",
       "    }\n",
       "</style>\n",
       "<table border=\"1\" class=\"dataframe\">\n",
       "  <thead>\n",
       "    <tr style=\"text-align: right;\">\n",
       "      <th></th>\n",
       "      <th>column1</th>\n",
       "      <th>column2</th>\n",
       "    </tr>\n",
       "  </thead>\n",
       "  <tbody>\n",
       "    <tr>\n",
       "      <th>0</th>\n",
       "      <td>1</td>\n",
       "      <td>5</td>\n",
       "    </tr>\n",
       "    <tr>\n",
       "      <th>1</th>\n",
       "      <td>2</td>\n",
       "      <td>6</td>\n",
       "    </tr>\n",
       "    <tr>\n",
       "      <th>2</th>\n",
       "      <td>3</td>\n",
       "      <td>7</td>\n",
       "    </tr>\n",
       "    <tr>\n",
       "      <th>3</th>\n",
       "      <td>4</td>\n",
       "      <td>8</td>\n",
       "    </tr>\n",
       "  </tbody>\n",
       "</table>\n",
       "</div>"
      ],
      "text/plain": [
       "   column1  column2\n",
       "0        1        5\n",
       "1        2        6\n",
       "2        3        7\n",
       "3        4        8"
      ]
     },
     "execution_count": 7,
     "metadata": {},
     "output_type": "execute_result"
    }
   ],
   "source": [
    "df1={\n",
    "    'column1':[1,2,3,4],\n",
    "    'column2':[5,6,7,8]\n",
    "}\n",
    "pd.DataFrame(data=df1)"
   ]
  },
  {
   "cell_type": "markdown",
   "id": "31e4a36a",
   "metadata": {},
   "source": [
    "## Converting the int64 bit to int 8 bit"
   ]
  },
  {
   "cell_type": "code",
   "execution_count": 8,
   "id": "d23d4304",
   "metadata": {},
   "outputs": [
    {
     "name": "stdout",
     "output_type": "stream",
     "text": [
      "column1    int8\n",
      "column2    int8\n",
      "dtype: object\n"
     ]
    }
   ],
   "source": [
    "df1_type=pd.DataFrame(data=df1 , dtype=np.int8)\n",
    "print(df1_type.dtypes)"
   ]
  },
  {
   "cell_type": "code",
   "execution_count": 9,
   "id": "e7982078",
   "metadata": {
    "scrolled": true
   },
   "outputs": [
    {
     "data": {
      "text/plain": [
       "a    1\n",
       "b    2\n",
       "c    3\n",
       "d    4\n",
       "e    5\n",
       "dtype: int64"
      ]
     },
     "execution_count": 9,
     "metadata": {},
     "output_type": "execute_result"
    }
   ],
   "source": [
    "df2= pd.Series([1,2,3,4,5], index=['a','b','c','d','e'])\n",
    "df2              "
   ]
  },
  {
   "cell_type": "markdown",
   "id": "b613c847",
   "metadata": {},
   "source": [
    "## Slicing the Dataframe for only showing the output of the first 3 index."
   ]
  },
  {
   "cell_type": "code",
   "execution_count": 10,
   "id": "5930192e",
   "metadata": {},
   "outputs": [],
   "source": [
    "df2=pd.DataFrame(data=df2,index=['a','b','c'])"
   ]
  },
  {
   "cell_type": "markdown",
   "id": "e64df17e",
   "metadata": {},
   "source": [
    "## Associating the elements of the array to a column. Using np.array() function to convert the list into an array\n",
    "### Such that the elements of the array are in rows of the columns of 'a' , 'b' , 'c'."
   ]
  },
  {
   "cell_type": "code",
   "execution_count": 11,
   "id": "58acbac2",
   "metadata": {},
   "outputs": [
    {
     "data": {
      "text/html": [
       "<div>\n",
       "<style scoped>\n",
       "    .dataframe tbody tr th:only-of-type {\n",
       "        vertical-align: middle;\n",
       "    }\n",
       "\n",
       "    .dataframe tbody tr th {\n",
       "        vertical-align: top;\n",
       "    }\n",
       "\n",
       "    .dataframe thead th {\n",
       "        text-align: right;\n",
       "    }\n",
       "</style>\n",
       "<table border=\"1\" class=\"dataframe\">\n",
       "  <thead>\n",
       "    <tr style=\"text-align: right;\">\n",
       "      <th></th>\n",
       "      <th>a</th>\n",
       "      <th>b</th>\n",
       "      <th>c</th>\n",
       "    </tr>\n",
       "  </thead>\n",
       "  <tbody>\n",
       "    <tr>\n",
       "      <th>0</th>\n",
       "      <td>1</td>\n",
       "      <td>2</td>\n",
       "      <td>3</td>\n",
       "    </tr>\n",
       "    <tr>\n",
       "      <th>1</th>\n",
       "      <td>4</td>\n",
       "      <td>5</td>\n",
       "      <td>6</td>\n",
       "    </tr>\n",
       "    <tr>\n",
       "      <th>2</th>\n",
       "      <td>7</td>\n",
       "      <td>8</td>\n",
       "      <td>9</td>\n",
       "    </tr>\n",
       "  </tbody>\n",
       "</table>\n",
       "</div>"
      ],
      "text/plain": [
       "   a  b  c\n",
       "0  1  2  3\n",
       "1  4  5  6\n",
       "2  7  8  9"
      ]
     },
     "execution_count": 11,
     "metadata": {},
     "output_type": "execute_result"
    }
   ],
   "source": [
    "df3=np.array([(1,2,3),(4,5,6),(7,8,9)], dtype=[('a','i4'),('b','i4'),('c','i4')] )\n",
    "pd.DataFrame(data = df3)\n",
    "pd.DataFrame(data = df3, columns=['a','b', 'c'])"
   ]
  },
  {
   "cell_type": "code",
   "execution_count": null,
   "id": "ffba8672",
   "metadata": {},
   "outputs": [],
   "source": []
  },
  {
   "cell_type": "code",
   "execution_count": null,
   "id": "db01472d",
   "metadata": {},
   "outputs": [],
   "source": []
  }
 ],
 "metadata": {
  "kernelspec": {
   "display_name": "Python 3 (ipykernel)",
   "language": "python",
   "name": "python3"
  },
  "language_info": {
   "codemirror_mode": {
    "name": "ipython",
    "version": 3
   },
   "file_extension": ".py",
   "mimetype": "text/x-python",
   "name": "python",
   "nbconvert_exporter": "python",
   "pygments_lexer": "ipython3",
   "version": "3.11.7"
  }
 },
 "nbformat": 4,
 "nbformat_minor": 5
}
